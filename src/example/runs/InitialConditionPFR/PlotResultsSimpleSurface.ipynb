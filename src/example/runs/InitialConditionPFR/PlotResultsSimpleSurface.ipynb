{
 "cells": [
  {
   "cell_type": "code",
   "execution_count": 1,
   "metadata": {},
   "outputs": [],
   "source": [
    "import matplotlib.pyplot as plt\n",
    "import numpy as np"
   ]
  },
  {
   "cell_type": "code",
   "execution_count": 2,
   "metadata": {},
   "outputs": [],
   "source": [
    "data = np.genfromtxt(\"SimpleSurface.dat\", dtype=str)\n",
    "Header = (data[0,:]).tolist()\n",
    "solTchem = (data[1:,:]).astype(float)"
   ]
  },
  {
   "cell_type": "code",
   "execution_count": 3,
   "metadata": {},
   "outputs": [
    {
     "name": "stdout",
     "output_type": "stream",
     "text": [
      "['iter', 't', 'dt', 'X(1)', 'HX(6)', 'OX(7)', 'CH3X(8)', 'HOX(9)', 'H2OX(10)', 'CO2X(13)', 'OCX(15)', 'CX(16)', 'CH2X(17)', 'CHX(18)', 'CH4X(19)', 'NOX(20)', 'NO2X(21)', 'HO2X(28)', 'CHOX(45)', 'CHO2X(46)', 'COX(47)', 'H2X(48)', 'NO2X(59)']\n"
     ]
    }
   ],
   "source": [
    "print(Header)"
   ]
  },
  {
   "cell_type": "code",
   "execution_count": 4,
   "metadata": {},
   "outputs": [],
   "source": [
    "def makePlotV2(x, y1, y2, y3, info, fig_name):\n",
    "    loc_x = info['loc_x']\n",
    "    loc_y = info['loc_y']\n",
    "    \n",
    "    ys1 = info['label1']['scale']\n",
    "    ys2 = info['label2']['scale']\n",
    "    ys3 = info['label3']['scale']\n",
    "    \n",
    "    label1 = info['label1']['label'] + ' x'+str(ys1)\n",
    "    label2 = info['label2']['label'] + ' x'+str(ys2)\n",
    "    label3 = info['label3']['label'] + ' x'+str(ys3)\n",
    "    \n",
    "    fig, ax = plt.subplots(figsize=[5,4])\n",
    "    p1 = ax.plot(x, y1/ys1,'r-',label = label1)\n",
    "    p2 = ax.plot(x, y2/ys2,'g-',label = label2)\n",
    "    p3 = ax.plot(x, y3/ys3,'b-',label = label3)\n",
    "    plt.xlabel(info['xlabel'])\n",
    "    plt.ylabel(info['ylabel'])\n",
    "    plt.xscale('log')\n",
    "    \n",
    "    plt.xlim(info['xlim'])\n",
    "    plt.ylim(info['ylim'])\n",
    "     # added these three lines\n",
    "    lns = p1+p2+p3\n",
    "    labs = [l.get_label() for l in lns]\n",
    "    ax.legend(lns, labs, bbox_to_anchor=(loc_x, loc_y),frameon=False)\n",
    "    \n",
    "    plt.savefig(fig_name,bbox_inches='tight')\n",
    "    \n",
    "    return\n"
   ]
  },
  {
   "cell_type": "code",
   "execution_count": 6,
   "metadata": {},
   "outputs": [
    {
     "name": "stderr",
     "output_type": "stream",
     "text": [
      "/var/folders/np/m42416h166j90krvxmfl40940000gp/T/ipykernel_87123/3915406409.py:21: UserWarning: Attempted to set non-positive left xlim on a log-scaled axis.\n",
      "Invalid limit will be ignored.\n",
      "  plt.xlim(info['xlim'])\n"
     ]
    },
    {
     "data": {
      "image/png": "[encoded data removed]",
      "text/plain": [
       "<Figure size 360x288 with 1 Axes>"
      ]
     },
     "metadata": {
      "needs_background": "light"
     },
     "output_type": "display_data"
    }
   ],
   "source": [
    "info={}\n",
    "info['label1'] = {'label':'OX','scale':1}\n",
    "info['label2'] = {'label':'X  ','scale':1}\n",
    "info['label3'] = {'label':'CH4X ','scale':5e-2}\n",
    "info['xlabel'] = 'time [s] '\n",
    "info['ylabel'] = 'Site Fraction'\n",
    "info['loc_x'] = 0.5\n",
    "info['loc_y'] = 0.6\n",
    "info['xlim'] = [0,1e-3]\n",
    "info['ylim'] = [0.,1+1e-2]\n",
    "x  = solTchem[:,Header.index('t')]\n",
    "y1 = solTchem[:,Header.index('OX(7)')]\n",
    "y2 = solTchem[:,Header.index('X(1)')]\n",
    "y3 = solTchem[:,Header.index('CH4X(19)')]\n",
    "\n",
    "makePlotV2(x, y1, y2, y3, info, 'SimpleSurface.pdf')"
   ]
  },
  {
   "cell_type": "code",
   "execution_count": null,
   "metadata": {},
   "outputs": [],
   "source": []
  }
 ],
 "metadata": {
  "kernelspec": {
   "display_name": "Python 3 (ipykernel)",
   "language": "python",
   "name": "python3"
  },
  "language_info": {
   "codemirror_mode": {
    "name": "ipython",
    "version": 3
   },
   "file_extension": ".py",
   "mimetype": "text/x-python",
   "name": "python",
   "nbconvert_exporter": "python",
   "pygments_lexer": "ipython3",
   "version": "3.8.11"
  }
 },
 "nbformat": 4,
 "nbformat_minor": 4
}
