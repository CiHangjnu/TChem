{
 "cells": [
  {
   "cell_type": "markdown",
   "metadata": {},
   "source": [
    "### Verification of plug flow reactor RHS\n",
    "* This code uses cantera to verify CThem implementation"
   ]
  },
  {
   "cell_type": "code",
   "execution_count": 1,
   "metadata": {},
   "outputs": [],
   "source": [
    "import cantera as ct\n",
    "import numpy as np"
   ]
  },
  {
   "cell_type": "markdown",
   "metadata": {},
   "source": [
    "### Equation to solve in pfr\n",
    "\n",
    "* species equation (eq 9.6)\n",
    "\n",
    "$$\\rho u A_c \\frac{ d  Y_k }{dz} = A_c \\dot{w_{k}}W_k + P^{'} \\dot{s}_kW_k - Y_k P^{'}\\sum_{k=1}^{Kg} \\dot{s}_kW_k  $$ \n",
    "\n",
    "* energy equation (eq 9.76)\n",
    "\n",
    "$$  \\rho u A_c c_p\\frac{dT}{dz} =  - A_c \\sum_{k=1}^{Kg} \\dot{w_{k}} W_k h_k - P^{'}\\sum_{k=1}^{Kg}\\dot{s}_kW_k h_k + \\hat{h}P(T_w -T) $$ \n",
    "\n",
    "* momemtum equation\n",
    "$$\\Big(1  - \\frac{ p }{\\rho u^2} \\Big)\\rho u A_c \\frac{ d  u }{dz} = - \\Big( 1 + \\frac{p }{\\rho u^2} \\Big)uP^{'} \\sum_{k=1}^{Kg}\\dot{s}_kW_k - \\tau_w P  - A_c \\rho R \\big ( \\frac{ 1 }{\\bar{W}} \\frac{dT}{dz} +    T \\sum _{k=1}^{Kg} \\frac{d Y_k}{ dz}\\frac{1}{W_k} \\big ) $$\n",
    "\n",
    "* continuity equation \n",
    "$$ u A_c \\frac{d \\rho }{ dz} = - u \\rho \\frac{dA_c}{dz} + P^{'}\\sum_{k=1}^{Kg} \\dot{s}_kW_k   - \\rho A_c \\frac{du}{dz}$$\n",
    "\n",
    "\n",
    "* surface species equation\n",
    "\n",
    "$\\dot{s}_k = 0$ k is only surface species"
   ]
  },
  {
   "cell_type": "code",
   "execution_count": 2,
   "metadata": {},
   "outputs": [],
   "source": [
    "def rhs(Y,t):\n",
    "    Yk      = Y[2:-1]\n",
    "    u       = Y[-1]\n",
    "    T       = Y[1]\n",
    "    ρ       = Y[0]\n",
    "    gas.Y   = np.copy(Yk)\n",
    "    mix_W = gas.mean_molecular_weight\n",
    "    \n",
    "    #compute pressure\n",
    "    P = R*T*ρ/mix_W\n",
    "\n",
    "    gas.TP  = T, P\n",
    "    surf.TP = T, P\n",
    "\n",
    "    dAcdz = 0       \n",
    "    \n",
    "    ## species equations \n",
    "\n",
    "    #surf.advance_coverages(100)\n",
    "\n",
    "    term1 = -Yk*Pr*np.sum(surf.net_production_rates[:Ngas]*gas.molecular_weights)\n",
    "    term2 = Ac*gas.net_production_rates*gas.molecular_weights\n",
    "    term3 = Pr*surf.net_production_rates[:Ngas]*gas.molecular_weights\n",
    "    num1  = ρ*u*Ac\n",
    "    dydz  = (term1 + term2 + term3)/num1 #np.zeros(Ngas)#\n",
    "    \n",
    "    ## energy equation\n",
    "    hk   = gas.partial_molar_enthalpies/gas.molecular_weights # J/kg\n",
    "    te1  = - np.sum(term2*hk)\n",
    "    te2  = - np.sum(term3*hk)\n",
    "    num2 = num1*gas.cp_mass \n",
    "    dTdz = (te1+te2)/num2 \n",
    "        \n",
    "    # mom equation\n",
    "    m = 1. - P/(ρ*u*u) \n",
    "    tm1 = -(-m+2.)*u*Pr*np.sum(surf.net_production_rates[:Ngas]*gas.molecular_weights)\n",
    "    tm2 = - Ac*ρ*R*(dTdz/mix_W + T*np.sum(dydz/gas.molecular_weights))\n",
    "    numm = m*ρ*u*Ac \n",
    "\n",
    "        \n",
    "    dudz = (tm1+tm2)/numm \n",
    "    ##continuity equation\n",
    "    dρdz = (-u*ρ*dAcdz + Pr*np.sum(surf.net_production_rates[:Ngas]*gas.molecular_weights)-ρ*Ac*dudz)/(u*Ac)\n",
    "    f = surf.net_production_rates[Ngas:]\n",
    "    f[-1] = 1- np.sum(surf.coverages)\n",
    "    \n",
    "    return np.hstack((dTdz,dydz,dρdz,dudz,f))"
   ]
  },
  {
   "cell_type": "code",
   "execution_count": 3,
   "metadata": {},
   "outputs": [],
   "source": [
    "mec = 'X'\n",
    "# mec = 'PT'\n",
    "TchemRepo = '/Users/odiazib/CODE/TChem++/'\n",
    "dirInputs = TchemRepo + 'install/example/data/plug-flow-reactor/'+mec+'/'"
   ]
  },
  {
   "cell_type": "code",
   "execution_count": 4,
   "metadata": {},
   "outputs": [
    {
     "name": "stdout",
     "output_type": "stream",
     "text": [
      "Pr 0.025977239243415308\n"
     ]
    }
   ],
   "source": [
    "R = 8.31446261815324*1000 # m3⋅Pa⋅K−1⋅Kmol−1\n",
    "Ti =1300 # K\n",
    "Pi = ct.one_atm\n",
    "\n",
    "Area = 0.00053 ## // [m^2]\n",
    "\n",
    "ui  = 0.019 # m/s\n",
    "d   = (Area/np.pi)**0.5# m\n",
    "Pr  = 2.*d\n",
    "Ac  = Area#np.pi*d*d/4.\n",
    "#0.13149028338481544\n",
    "print('Pr',Pr)"
   ]
  },
  {
   "cell_type": "code",
   "execution_count": 5,
   "metadata": {},
   "outputs": [
    {
     "name": "stdout",
     "output_type": "stream",
     "text": [
      "ρi 0.24763540348846827\n",
      "[0.05882353 0.05882353 0.05882353 0.05882353 0.05882353 0.05882353\n",
      " 0.05882353 0.05882353 0.05882353 0.05882353 0.05882353 0.05882353\n",
      " 0.05882353 0.05882353 0.05882353 0.05882353 0.05882353]\n",
      "[0.         0.         0.63627474 0.12146061 0.24226465 0.\n",
      " 0.         0.         0.         0.         0.         0.\n",
      " 0.         0.         0.         0.         0.         0.\n",
      " 0.         0.         0.         0.        ]\n"
     ]
    }
   ],
   "source": [
    "# import the gas model and set the initial conditions                                           \n",
    "gas  = ct.Solution(dirInputs+'chem.cti', 'gas')\n",
    "surf = ct.Interface(dirInputs+'chem.cti', 'surface1', [gas])\n",
    "if mec == 'PT':    \n",
    "    gas.TPX = Ti, Pi, 'CO:0.2, O2:0.2, N2:0.6' # X mole fraction Y mass fraction\n",
    "elif mec == 'X':\n",
    "    gas.TPX = Ti, Pi, 'CH4(2):0.2, O2(3):0.2, N2:0.6' # X mole fraction Y mass fraction\n",
    "    #gas.Y +=1e-6\n",
    "# import the surface model\n",
    "surf.TP = Ti, Pi\n",
    "Ngas = gas.n_species\n",
    "ρi  = np.copy(gas.density)\n",
    "Yki = np.copy(gas.Y)\n",
    "print('ρi',ρi)\n",
    "      \n",
    "surf.coverages = 1./surf.n_species*np.ones(surf.n_species)\n",
    "print(surf.coverages)\n",
    "print(gas.Y)\n",
    "# print('CO index',gas.species_index('CO'))\n",
    "# print('N2 index',gas.species_index('N2'))\n",
    "# print('O2 index',gas.species_index('O2'))\n",
    "\n",
    "Nsurf = surf.n_species\n",
    "Ngas  = gas.n_species\n",
    "Yi = np.hstack((ρi,Ti,Yki,ui))"
   ]
  },
  {
   "cell_type": "code",
   "execution_count": 6,
   "metadata": {},
   "outputs": [],
   "source": [
    "state = np.vstack((gas.density,gas.P,gas.T,np.atleast_2d(gas.Y).T))\n",
    "Zk  = np.copy(surf.coverages)\n",
    "np.savetxt(dirInputs + 'inputGas.dat',state)\n",
    "np.savetxt(dirInputs + 'inputSurfGas.dat',Zk)\n",
    "np.savetxt(dirInputs + 'inputVelocity.dat',np.atleast_2d(ui))"
   ]
  },
  {
   "cell_type": "code",
   "execution_count": 7,
   "metadata": {},
   "outputs": [],
   "source": [
    "rhsPRF = rhs(Yi,0)"
   ]
  },
  {
   "cell_type": "code",
   "execution_count": 8,
   "metadata": {},
   "outputs": [],
   "source": [
    "nameRHS = ['T']\n",
    "nameRHS += gas.species_names\n",
    "nameRHS += 'dρ'\n",
    "nameRHS += 'du'\n",
    "nameRHS += surf.species_names"
   ]
  },
  {
   "cell_type": "code",
   "execution_count": 9,
   "metadata": {},
   "outputs": [],
   "source": [
    "rhsTchem = np.loadtxt(dirInputs+'/plugflowreactorRHS.dat')"
   ]
  },
  {
   "cell_type": "code",
   "execution_count": 10,
   "metadata": {},
   "outputs": [
    {
     "name": "stdout",
     "output_type": "stream",
     "text": [
      "0 T 9.355040778462248e+17 9.355056e+17 -1.6270947516726987e-06\n",
      "1 Ar 0.0 0.0 0.0\n",
      "2 Ne 0.0 0.0 0.0\n",
      "3 N2 -352949953021771.3 -352950700000000.0 -2.1163856866738936e-06\n",
      "4 CH4(2) -67354828115906.34 -67354970000000.0 -2.10651704748012e-06\n",
      "5 O2(3) -134387384891765.3 -134387700000000.0 -2.344775404007683e-06\n",
      "6 CO2(4) 129456973.36031066 129457100.0 -9.782376804740986e-07\n",
      "7 H2O(5) 436897988.1393678 436900700.0 -6.207079697780848e-06\n",
      "8 H2(6) 336960.62600105954 336965.4 -1.4167824285989218e-05\n",
      "9 CO(7) 554687492334678.1 554688600000000.0 -1.9969177909760317e-06\n",
      "10 C2H6(8) 2941478.2828281345 2941561.0 -2.812095277004241e-05\n",
      "11 CH2O(9) 0.0 0.0 0.0\n",
      "12 CH3(10) 17433004.94059441 17433130.0 -7.173714802324535e-06\n",
      "13 C3H8(11) 0.0 0.0 0.0\n",
      "14 H(12) 0.10609711932785909 0.1060986 -1.3955818501866952e-05\n",
      "15 C2H5(13) 0.0 0.0 0.0\n",
      "16 CH3OH(14) 156841938.24356744 156843800.0 -1.1870271774325148e-05\n",
      "17 HCO(15) 0.0 0.0 0.0\n",
      "18 CH3CHO(16) 0.0 0.0 0.0\n",
      "19 OH(17) 3264.761171421316 3264.762 -2.5379457818545806e-07\n",
      "20 C2H4(18) 3929757991.2943916 3929785000.0 -6.872867405117672e-06\n",
      "21 C2H4(47) 25165.222585756383 25165.4 -7.049977126737534e-06\n",
      "22 CH3OO(77) 0.0 0.0 0.0\n",
      "23 d -170389538709714.47 -170389300000000.0 1.4009646148255013e-06\n",
      "24 ρ 23612806361926.29 23612810000000.0 -1.5407205967705708e-07\n",
      "25 d 24302609637.631207 24302600000.0 3.96567749316482e-07\n",
      "26 u -10283008810.08821 -10283000000.0 8.567617097156458e-07\n",
      "27 X(1) 184468.9859223892 184469.7 -3.870990059618898e-06\n",
      "28 HX(19) -117942.20300021594 -117942.6 -3.3660536598643073e-06\n",
      "29 OX(20) -12118720906.308506 -12118730000.0 -7.503837710508075e-07\n",
      "30 CH3X(21) 58567.90256669514 58568.19 -4.907693331394197e-06\n",
      "31 HOX(22) 12118474978.63068 12118490000.0 -1.2395428753538674e-06\n",
      "32 H2OX(23) -14019458425.948828 -14019460000.0 -1.1227617532950022e-07\n",
      "33 CO2X(24) -22401466380.978687 -22401470000.0 -1.6155287565400498e-07\n",
      "34 OCX(25) -23.222148603890673 -23.22215 -6.011973094040652e-08\n",
      "35 CX(26) 22401458484.329826 22401460000.0 -6.765944167007049e-08\n",
      "36 CH2X(27) -0.1129703695960622 -0.1129694 8.582746658879964e-06\n",
      "37 CHX(28) -1.0881699657744421 -1.088153 1.5591107065832376e-05\n",
      "38 CH4X(48) -1.502413855740692 -1.502401 8.556723996430484e-06\n",
      "39 H2X(49) -198.986534859541 -198.9856 4.698104530792824e-06\n",
      "40 C2H6X(52) -13446.954616792484 -13446.85 7.779961743355591e-06\n",
      "41 CH4OX(60) 0.0 0.0 0.0\n"
     ]
    }
   ],
   "source": [
    "for i, rhs in enumerate(rhsPRF):\n",
    "    print(i, nameRHS[i], rhs, rhsTchem[i][1], (rhs-rhsTchem[i][1])/(rhs+1e-23) )"
   ]
  },
  {
   "cell_type": "code",
   "execution_count": null,
   "metadata": {},
   "outputs": [],
   "source": []
  }
 ],
 "metadata": {
  "kernelspec": {
   "display_name": "Python 3",
   "language": "python",
   "name": "python3"
  },
  "language_info": {
   "codemirror_mode": {
    "name": "ipython",
    "version": 3
   },
   "file_extension": ".py",
   "mimetype": "text/x-python",
   "name": "python",
   "nbconvert_exporter": "python",
   "pygments_lexer": "ipython3",
   "version": "3.7.6"
  }
 },
 "nbformat": 4,
 "nbformat_minor": 4
}
