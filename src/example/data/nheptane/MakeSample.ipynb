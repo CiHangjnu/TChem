{
 "cells": [
  {
   "cell_type": "code",
   "execution_count": 11,
   "metadata": {},
   "outputs": [],
   "source": [
    "import numpy as np\n",
    "import matplotlib.pyplot as plt\n",
    "import matplotlib.colors as colors\n",
    "import matplotlib.cbook as cbook\n",
    "import sys\n",
    "#update this path...\n",
    "TCHEM_INSTALL_PATH='where/tchem/is/installed'\n",
    "sys.path.append(TCHEM_INSTALL_PATH +'/example/runs/scripts/')\n",
    "import pmixSample"
   ]
  },
  {
   "cell_type": "code",
   "execution_count": 12,
   "metadata": {},
   "outputs": [
    {
     "name": "stdout",
     "output_type": "stream",
     "text": [
      "800 800\n",
      "1.25 1.25\n"
     ]
    }
   ],
   "source": [
    "# Pressure, Temperature, phi(stoichiometric ratio)\n",
    "one_atm = 101325\n",
    "TempMax = 800; #K\n",
    "TempMin = 800 #1300; #K\n",
    "\n",
    "PressureMax = 10*one_atm; # atm\n",
    "PressureMin = 10*one_atm; # atm\n",
    "\n",
    "phiMax = 1; # \n",
    "phiMin = 1; # \n",
    "print(TempMax,TempMin)\n",
    "print(1000/TempMax,1000/TempMin)"
   ]
  },
  {
   "cell_type": "code",
   "execution_count": 13,
   "metadata": {},
   "outputs": [
    {
     "name": "stdout",
     "output_type": "stream",
     "text": [
      "p 1\n"
     ]
    }
   ],
   "source": [
    "Npp = 1\n",
    "Npt = 1\n",
    "Npphi = 1\n",
    "N = Npp*Npt*Npphi\n",
    "pressure    = [PressureMin]#[PressureMin, PressureMax] # , np.linspace(PressureMin, PressureMax, Npp) #\n",
    "temperature = np.linspace(TempMin, TempMax, Npt)\n",
    "eqratio     = np.linspace(phiMin, phiMax, Npphi)\n",
    "p, temp, phi = np.meshgrid(pressure, temperature,eqratio)\n",
    "print('p',np.size(p))\n",
    "p    = p.reshape(np.size(p)) #flatten()\n",
    "temp = temp.reshape(np.size(temp))#flatten()\n",
    "phi  = phi.reshape(np.size(phi))#flatten()"
   ]
  },
  {
   "cell_type": "code",
   "execution_count": 14,
   "metadata": {},
   "outputs": [
    {
     "name": "stdout",
     "output_type": "stream",
     "text": [
      "[1.]\n"
     ]
    }
   ],
   "source": [
    "print(phi)"
   ]
  },
  {
   "cell_type": "code",
   "execution_count": 15,
   "metadata": {},
   "outputs": [],
   "source": [
    "Nvar = 6\n",
    "sample = np.zeros([N,Nvar])\n",
    "fuel =\"NC7H16\"\n",
    "nC=7"
   ]
  },
  {
   "cell_type": "code",
   "execution_count": 16,
   "metadata": {},
   "outputs": [],
   "source": [
    "for i in range(N):\n",
    "    sample[i,0] = temp[i]\n",
    "    sample[i,1] = p[i]\n",
    "    Yp_fuel, Yr_o2, Yr_n2, Yr_ar = pmixSample.getMassFraction(nC,phi[i])\n",
    "    sample[i,2] = Yp_fuel\n",
    "    sample[i,3] = Yr_o2\n",
    "    sample[i,4] = Yr_n2 \n",
    "    sample[i,5] = Yr_ar"
   ]
  },
  {
   "cell_type": "code",
   "execution_count": 17,
   "metadata": {},
   "outputs": [],
   "source": [
    "savedir = ''\n",
    "header_fuel = \"T P \"+fuel+\" O2 N2 AR\"\n",
    "np.savetxt(savedir+'sample.dat',sample,header=header_fuel,comments='')"
   ]
  },
  {
   "cell_type": "code",
   "execution_count": null,
   "metadata": {},
   "outputs": [],
   "source": []
  }
 ],
 "metadata": {
  "kernelspec": {
   "display_name": "Python 3 (ipykernel)",
   "language": "python",
   "name": "python3"
  },
  "language_info": {
   "codemirror_mode": {
    "name": "ipython",
    "version": 3
   },
   "file_extension": ".py",
   "mimetype": "text/x-python",
   "name": "python",
   "nbconvert_exporter": "python",
   "pygments_lexer": "ipython3",
   "version": "3.8.11"
  }
 },
 "nbformat": 4,
 "nbformat_minor": 4
}
